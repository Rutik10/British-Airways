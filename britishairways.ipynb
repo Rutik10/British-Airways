{
 "cells": [
  {
   "cell_type": "markdown",
   "id": "3281018c",
   "metadata": {},
   "source": [
    "# Web scraping"
   ]
  },
  {
   "cell_type": "code",
   "execution_count": 1,
   "id": "3d3834f8",
   "metadata": {},
   "outputs": [],
   "source": [
    "import requests\n",
    "from bs4 import BeautifulSoup\n",
    "import pandas as pd \n",
    "import os"
   ]
  },
  {
   "cell_type": "code",
   "execution_count": 2,
   "id": "525a5d6a",
   "metadata": {},
   "outputs": [],
   "source": [
    "base_url = \"https://www.airlinequality.com/airline-reviews/british-airways\"\n",
    "pages = 10\n",
    "page_size = 100\n",
    "\n",
    "reviews = []\n"
   ]
  },
  {
   "cell_type": "code",
   "execution_count": 3,
   "id": "36c7a205",
   "metadata": {},
   "outputs": [
    {
     "name": "stdout",
     "output_type": "stream",
     "text": [
      "Scraping page 1\n",
      "   ---> 100 total reviews\n",
      "Scraping page 2\n",
      "   ---> 200 total reviews\n",
      "Scraping page 3\n",
      "   ---> 300 total reviews\n",
      "Scraping page 4\n",
      "   ---> 400 total reviews\n",
      "Scraping page 5\n",
      "   ---> 500 total reviews\n",
      "Scraping page 6\n",
      "   ---> 600 total reviews\n",
      "Scraping page 7\n",
      "   ---> 700 total reviews\n",
      "Scraping page 8\n",
      "   ---> 800 total reviews\n",
      "Scraping page 9\n",
      "   ---> 900 total reviews\n",
      "Scraping page 10\n",
      "   ---> 1000 total reviews\n"
     ]
    }
   ],
   "source": [
    "\n",
    "# for i in range(1, pages + 1):\n",
    "for i in range(1, pages + 1):\n",
    "\n",
    "    print(f\"Scraping page {i}\")\n",
    "\n",
    "    # Create URL to collect links from paginated data\n",
    "    url = f\"{base_url}/page/{i}/?sortby=post_date%3ADesc&pagesize={page_size}\"\n",
    "\n",
    "    # Collect HTML data from this page\n",
    "    response = requests.get(url)\n",
    "\n",
    "    # Parse content\n",
    "    content = response.content\n",
    "    parsed_content = BeautifulSoup(content, 'html.parser')\n",
    "    for para in parsed_content.find_all(\"div\", {\"class\": \"text_content\"}):\n",
    "        reviews.append(para.get_text())\n",
    "    \n",
    "    print(f\"   ---> {len(reviews)} total reviews\")"
   ]
  },
  {
   "cell_type": "code",
   "execution_count": 4,
   "id": "dec85f2d",
   "metadata": {},
   "outputs": [
    {
     "data": {
      "text/html": [
       "<div>\n",
       "<style scoped>\n",
       "    .dataframe tbody tr th:only-of-type {\n",
       "        vertical-align: middle;\n",
       "    }\n",
       "\n",
       "    .dataframe tbody tr th {\n",
       "        vertical-align: top;\n",
       "    }\n",
       "\n",
       "    .dataframe thead th {\n",
       "        text-align: right;\n",
       "    }\n",
       "</style>\n",
       "<table border=\"1\" class=\"dataframe\">\n",
       "  <thead>\n",
       "    <tr style=\"text-align: right;\">\n",
       "      <th></th>\n",
       "      <th>reviews</th>\n",
       "    </tr>\n",
       "  </thead>\n",
       "  <tbody>\n",
       "    <tr>\n",
       "      <th>0</th>\n",
       "      <td>Not Verified | I was meant to fly in January t...</td>\n",
       "    </tr>\n",
       "    <tr>\n",
       "      <th>1</th>\n",
       "      <td>✅ Trip Verified |  We have flown repeatedly wi...</td>\n",
       "    </tr>\n",
       "    <tr>\n",
       "      <th>2</th>\n",
       "      <td>✅ Trip Verified |  I was horrified by the extr...</td>\n",
       "    </tr>\n",
       "    <tr>\n",
       "      <th>3</th>\n",
       "      <td>✅ Trip Verified |  \\r\\nThe worst cabin experie...</td>\n",
       "    </tr>\n",
       "    <tr>\n",
       "      <th>4</th>\n",
       "      <td>✅ Trip Verified | First time flying with Briti...</td>\n",
       "    </tr>\n",
       "  </tbody>\n",
       "</table>\n",
       "</div>"
      ],
      "text/plain": [
       "                                             reviews\n",
       "0  Not Verified | I was meant to fly in January t...\n",
       "1  ✅ Trip Verified |  We have flown repeatedly wi...\n",
       "2  ✅ Trip Verified |  I was horrified by the extr...\n",
       "3  ✅ Trip Verified |  \\r\\nThe worst cabin experie...\n",
       "4  ✅ Trip Verified | First time flying with Briti..."
      ]
     },
     "execution_count": 4,
     "metadata": {},
     "output_type": "execute_result"
    }
   ],
   "source": [
    "df = pd.DataFrame()\n",
    "df[\"reviews\"] = reviews\n",
    "df.head()"
   ]
  },
  {
   "cell_type": "markdown",
   "id": "4e439d31",
   "metadata": {},
   "source": [
    "Congratulations! Now you have your dataset for this task! The loops above collected 1000 reviews by iterating through the paginated pages on the website. However, if you want to collect more data, try increasing the number of pages!\n",
    "\n",
    "The next thing that you should do is clean this data to remove any unnecessary text from each of the rows. For example, \"✅ Trip Verified\" can be removed from each row if it exists, as it's not relevant to what we want to investigate."
   ]
  },
  {
   "cell_type": "code",
   "execution_count": 5,
   "id": "83cfd670",
   "metadata": {},
   "outputs": [],
   "source": [
    "df.reviews= df.reviews.str.split('|',expand=True)[1]"
   ]
  },
  {
   "cell_type": "code",
   "execution_count": 7,
   "id": "62c5949c",
   "metadata": {},
   "outputs": [
    {
     "data": {
      "text/html": [
       "<div>\n",
       "<style scoped>\n",
       "    .dataframe tbody tr th:only-of-type {\n",
       "        vertical-align: middle;\n",
       "    }\n",
       "\n",
       "    .dataframe tbody tr th {\n",
       "        vertical-align: top;\n",
       "    }\n",
       "\n",
       "    .dataframe thead th {\n",
       "        text-align: right;\n",
       "    }\n",
       "</style>\n",
       "<table border=\"1\" class=\"dataframe\">\n",
       "  <thead>\n",
       "    <tr style=\"text-align: right;\">\n",
       "      <th></th>\n",
       "      <th>reviews</th>\n",
       "    </tr>\n",
       "  </thead>\n",
       "  <tbody>\n",
       "    <tr>\n",
       "      <th>0</th>\n",
       "      <td>I was meant to fly in January to Algeria. I p...</td>\n",
       "    </tr>\n",
       "    <tr>\n",
       "      <th>1</th>\n",
       "      <td>We have flown repeatedly with British Airway...</td>\n",
       "    </tr>\n",
       "    <tr>\n",
       "      <th>2</th>\n",
       "      <td>I was horrified by the extremely small seats...</td>\n",
       "    </tr>\n",
       "    <tr>\n",
       "      <th>3</th>\n",
       "      <td>\\r\\nThe worst cabin experience ever: cramped...</td>\n",
       "    </tr>\n",
       "    <tr>\n",
       "      <th>4</th>\n",
       "      <td>First time flying with British Airways and fi...</td>\n",
       "    </tr>\n",
       "    <tr>\n",
       "      <th>...</th>\n",
       "      <td>...</td>\n",
       "    </tr>\n",
       "    <tr>\n",
       "      <th>995</th>\n",
       "      <td>London to Hamburg. Typically if I fly BA it ...</td>\n",
       "    </tr>\n",
       "    <tr>\n",
       "      <th>996</th>\n",
       "      <td>Turin to London Gatwick. Rubbish check-in ser...</td>\n",
       "    </tr>\n",
       "    <tr>\n",
       "      <th>997</th>\n",
       "      <td>When I checked in the evening before for the...</td>\n",
       "    </tr>\n",
       "    <tr>\n",
       "      <th>998</th>\n",
       "      <td>BA’s reputation has been declining for years...</td>\n",
       "    </tr>\n",
       "    <tr>\n",
       "      <th>999</th>\n",
       "      <td>Los Angeles to London Heathrow. Desperately ...</td>\n",
       "    </tr>\n",
       "  </tbody>\n",
       "</table>\n",
       "<p>1000 rows × 1 columns</p>\n",
       "</div>"
      ],
      "text/plain": [
       "                                               reviews\n",
       "0     I was meant to fly in January to Algeria. I p...\n",
       "1      We have flown repeatedly with British Airway...\n",
       "2      I was horrified by the extremely small seats...\n",
       "3      \\r\\nThe worst cabin experience ever: cramped...\n",
       "4     First time flying with British Airways and fi...\n",
       "..                                                 ...\n",
       "995    London to Hamburg. Typically if I fly BA it ...\n",
       "996   Turin to London Gatwick. Rubbish check-in ser...\n",
       "997    When I checked in the evening before for the...\n",
       "998    BA’s reputation has been declining for years...\n",
       "999    Los Angeles to London Heathrow. Desperately ...\n",
       "\n",
       "[1000 rows x 1 columns]"
      ]
     },
     "execution_count": 7,
     "metadata": {},
     "output_type": "execute_result"
    }
   ],
   "source": [
    "df"
   ]
  },
  {
   "cell_type": "markdown",
   "id": "4890228c",
   "metadata": {},
   "source": [
    "# Data preprocessing "
   ]
  },
  {
   "cell_type": "markdown",
   "id": "42d4a24c",
   "metadata": {},
   "source": [
    " Cleaning the data"
   ]
  },
  {
   "cell_type": "code",
   "execution_count": 8,
   "id": "938035ab",
   "metadata": {},
   "outputs": [
    {
     "data": {
      "text/html": [
       "<div>\n",
       "<style scoped>\n",
       "    .dataframe tbody tr th:only-of-type {\n",
       "        vertical-align: middle;\n",
       "    }\n",
       "\n",
       "    .dataframe tbody tr th {\n",
       "        vertical-align: top;\n",
       "    }\n",
       "\n",
       "    .dataframe thead th {\n",
       "        text-align: right;\n",
       "    }\n",
       "</style>\n",
       "<table border=\"1\" class=\"dataframe\">\n",
       "  <thead>\n",
       "    <tr style=\"text-align: right;\">\n",
       "      <th></th>\n",
       "      <th>reviews</th>\n",
       "      <th>Cleaned Reviews</th>\n",
       "    </tr>\n",
       "  </thead>\n",
       "  <tbody>\n",
       "    <tr>\n",
       "      <th>0</th>\n",
       "      <td>I was meant to fly in January to Algeria. I p...</td>\n",
       "      <td>I was meant to fly in January to Algeria I pa...</td>\n",
       "    </tr>\n",
       "    <tr>\n",
       "      <th>1</th>\n",
       "      <td>We have flown repeatedly with British Airway...</td>\n",
       "      <td>We have flown repeatedly with British Airways...</td>\n",
       "    </tr>\n",
       "    <tr>\n",
       "      <th>2</th>\n",
       "      <td>I was horrified by the extremely small seats...</td>\n",
       "      <td>I was horrified by the extremely small seats ...</td>\n",
       "    </tr>\n",
       "    <tr>\n",
       "      <th>3</th>\n",
       "      <td>\\r\\nThe worst cabin experience ever: cramped...</td>\n",
       "      <td>The worst cabin experience ever cramped seats...</td>\n",
       "    </tr>\n",
       "    <tr>\n",
       "      <th>4</th>\n",
       "      <td>First time flying with British Airways and fi...</td>\n",
       "      <td>First time flying with British Airways and fi...</td>\n",
       "    </tr>\n",
       "  </tbody>\n",
       "</table>\n",
       "</div>"
      ],
      "text/plain": [
       "                                             reviews  \\\n",
       "0   I was meant to fly in January to Algeria. I p...   \n",
       "1    We have flown repeatedly with British Airway...   \n",
       "2    I was horrified by the extremely small seats...   \n",
       "3    \\r\\nThe worst cabin experience ever: cramped...   \n",
       "4   First time flying with British Airways and fi...   \n",
       "\n",
       "                                     Cleaned Reviews  \n",
       "0   I was meant to fly in January to Algeria I pa...  \n",
       "1   We have flown repeatedly with British Airways...  \n",
       "2   I was horrified by the extremely small seats ...  \n",
       "3   The worst cabin experience ever cramped seats...  \n",
       "4   First time flying with British Airways and fi...  "
      ]
     },
     "execution_count": 8,
     "metadata": {},
     "output_type": "execute_result"
    }
   ],
   "source": [
    "import re\n",
    "\n",
    "# Define a function to clean the text\n",
    "def clean(text):\n",
    "# Removes all special characters and numericals leaving the alphabets\n",
    "    text = re.sub('[^A-Za-z]+', ' ', str(text))\n",
    "    return text\n",
    "\n",
    "# Cleaning the text in the review column\n",
    "df['Cleaned Reviews'] = df['reviews'].apply(clean)\n",
    "df.head()"
   ]
  },
  {
   "cell_type": "markdown",
   "id": "2833f135",
   "metadata": {},
   "source": [
    "NLTK is a popular Python library used for\n",
    "natural language processing (NLP) tasks such as tokenization, stemming, tagging, parsing, and more."
   ]
  },
  {
   "cell_type": "code",
   "execution_count": 9,
   "id": "c6b3bc4b",
   "metadata": {},
   "outputs": [
    {
     "name": "stderr",
     "output_type": "stream",
     "text": [
      "[nltk_data] Downloading package punkt to\n",
      "[nltk_data]     C:\\Users\\rutik\\AppData\\Roaming\\nltk_data...\n",
      "[nltk_data]   Unzipping tokenizers\\punkt.zip.\n",
      "[nltk_data] Downloading package stopwords to\n",
      "[nltk_data]     C:\\Users\\rutik\\AppData\\Roaming\\nltk_data...\n",
      "[nltk_data]   Unzipping corpora\\stopwords.zip.\n",
      "[nltk_data] Downloading package wordnet to\n",
      "[nltk_data]     C:\\Users\\rutik\\AppData\\Roaming\\nltk_data...\n"
     ]
    }
   ],
   "source": [
    "import nltk\n",
    "\n",
    "\"\"\"This punkt tokenizer divides a text into a list of sentences by using an unsupervised algorithm to build a model for abbreviation words, \n",
    "collocations, and words that start sentences. \"\"\"\n",
    "\n",
    "nltk.download('punkt')\n",
    "from nltk.tokenize import word_tokenize\n",
    "from nltk import pos_tag\n",
    "nltk.download('stopwords')\n",
    "from nltk.corpus import stopwords\n",
    "nltk.download('wordnet')\n",
    "from nltk.corpus import wordnet"
   ]
  },
  {
   "cell_type": "code",
   "execution_count": 10,
   "id": "f7c6326c",
   "metadata": {},
   "outputs": [
    {
     "name": "stderr",
     "output_type": "stream",
     "text": [
      "[nltk_data] Downloading package omw-1.4 to\n",
      "[nltk_data]     C:\\Users\\rutik\\AppData\\Roaming\\nltk_data...\n",
      "[nltk_data] Downloading package averaged_perceptron_tagger to\n",
      "[nltk_data]     C:\\Users\\rutik\\AppData\\Roaming\\nltk_data...\n",
      "[nltk_data]   Unzipping taggers\\averaged_perceptron_tagger.zip.\n"
     ]
    },
    {
     "data": {
      "text/html": [
       "<div>\n",
       "<style scoped>\n",
       "    .dataframe tbody tr th:only-of-type {\n",
       "        vertical-align: middle;\n",
       "    }\n",
       "\n",
       "    .dataframe tbody tr th {\n",
       "        vertical-align: top;\n",
       "    }\n",
       "\n",
       "    .dataframe thead th {\n",
       "        text-align: right;\n",
       "    }\n",
       "</style>\n",
       "<table border=\"1\" class=\"dataframe\">\n",
       "  <thead>\n",
       "    <tr style=\"text-align: right;\">\n",
       "      <th></th>\n",
       "      <th>reviews</th>\n",
       "      <th>Cleaned Reviews</th>\n",
       "      <th>POS tagged</th>\n",
       "    </tr>\n",
       "  </thead>\n",
       "  <tbody>\n",
       "    <tr>\n",
       "      <th>0</th>\n",
       "      <td>I was meant to fly in January to Algeria. I p...</td>\n",
       "      <td>I was meant to fly in January to Algeria I pa...</td>\n",
       "      <td>[(meant, v), (fly, v), (January, n), (Algeria,...</td>\n",
       "    </tr>\n",
       "    <tr>\n",
       "      <th>1</th>\n",
       "      <td>We have flown repeatedly with British Airway...</td>\n",
       "      <td>We have flown repeatedly with British Airways...</td>\n",
       "      <td>[(flown, v), (repeatedly, r), (British, a), (A...</td>\n",
       "    </tr>\n",
       "    <tr>\n",
       "      <th>2</th>\n",
       "      <td>I was horrified by the extremely small seats...</td>\n",
       "      <td>I was horrified by the extremely small seats ...</td>\n",
       "      <td>[(horrified, v), (extremely, r), (small, a), (...</td>\n",
       "    </tr>\n",
       "    <tr>\n",
       "      <th>3</th>\n",
       "      <td>\\r\\nThe worst cabin experience ever: cramped...</td>\n",
       "      <td>The worst cabin experience ever cramped seats...</td>\n",
       "      <td>[(worst, a), (cabin, n), (experience, n), (eve...</td>\n",
       "    </tr>\n",
       "    <tr>\n",
       "      <th>4</th>\n",
       "      <td>First time flying with British Airways and fi...</td>\n",
       "      <td>First time flying with British Airways and fi...</td>\n",
       "      <td>[(First, a), (time, n), (flying, v), (British,...</td>\n",
       "    </tr>\n",
       "  </tbody>\n",
       "</table>\n",
       "</div>"
      ],
      "text/plain": [
       "                                             reviews  \\\n",
       "0   I was meant to fly in January to Algeria. I p...   \n",
       "1    We have flown repeatedly with British Airway...   \n",
       "2    I was horrified by the extremely small seats...   \n",
       "3    \\r\\nThe worst cabin experience ever: cramped...   \n",
       "4   First time flying with British Airways and fi...   \n",
       "\n",
       "                                     Cleaned Reviews  \\\n",
       "0   I was meant to fly in January to Algeria I pa...   \n",
       "1   We have flown repeatedly with British Airways...   \n",
       "2   I was horrified by the extremely small seats ...   \n",
       "3   The worst cabin experience ever cramped seats...   \n",
       "4   First time flying with British Airways and fi...   \n",
       "\n",
       "                                          POS tagged  \n",
       "0  [(meant, v), (fly, v), (January, n), (Algeria,...  \n",
       "1  [(flown, v), (repeatedly, r), (British, a), (A...  \n",
       "2  [(horrified, v), (extremely, r), (small, a), (...  \n",
       "3  [(worst, a), (cabin, n), (experience, n), (eve...  \n",
       "4  [(First, a), (time, n), (flying, v), (British,...  "
      ]
     },
     "execution_count": 10,
     "metadata": {},
     "output_type": "execute_result"
    }
   ],
   "source": [
    "#The nltk.corpus package defines a collection of corpus reader classes, which can be used to access the contents of a diverse set of corpora.\n",
    "\n",
    "\n",
    "nltk.download('omw-1.4')\n",
    "nltk.download('averaged_perceptron_tagger')\n",
    "\n",
    "# POS tagger dictionary\n",
    "pos_dict = {'J':wordnet.ADJ, 'V':wordnet.VERB, 'N':wordnet.NOUN, 'R':wordnet.ADV}\n",
    "def token_stop_pos(text):\n",
    "    tags = pos_tag(word_tokenize(text))\n",
    "    #print(tags)\n",
    "    newlist = []\n",
    "    for word, tag in tags:\n",
    "        if word.lower() not in set(stopwords.words('english')):\n",
    "          newlist.append(tuple([word, pos_dict.get(tag[0])]))\n",
    "          #print(tag[0])\n",
    "          #print(pos_dict.get(tag[0]))\n",
    "    return newlist \n",
    "\n",
    "df['POS tagged'] = df['Cleaned Reviews'].apply(token_stop_pos)\n",
    "df.head()"
   ]
  },
  {
   "cell_type": "code",
   "execution_count": 11,
   "id": "4b4a1976",
   "metadata": {},
   "outputs": [
    {
     "data": {
      "text/html": [
       "<div>\n",
       "<style scoped>\n",
       "    .dataframe tbody tr th:only-of-type {\n",
       "        vertical-align: middle;\n",
       "    }\n",
       "\n",
       "    .dataframe tbody tr th {\n",
       "        vertical-align: top;\n",
       "    }\n",
       "\n",
       "    .dataframe thead th {\n",
       "        text-align: right;\n",
       "    }\n",
       "</style>\n",
       "<table border=\"1\" class=\"dataframe\">\n",
       "  <thead>\n",
       "    <tr style=\"text-align: right;\">\n",
       "      <th></th>\n",
       "      <th>reviews</th>\n",
       "      <th>Cleaned Reviews</th>\n",
       "      <th>POS tagged</th>\n",
       "      <th>Lemma</th>\n",
       "    </tr>\n",
       "  </thead>\n",
       "  <tbody>\n",
       "    <tr>\n",
       "      <th>0</th>\n",
       "      <td>I was meant to fly in January to Algeria. I p...</td>\n",
       "      <td>I was meant to fly in January to Algeria I pa...</td>\n",
       "      <td>[(meant, v), (fly, v), (January, n), (Algeria,...</td>\n",
       "      <td>mean fly January Algeria pay ticket day mean...</td>\n",
       "    </tr>\n",
       "    <tr>\n",
       "      <th>1</th>\n",
       "      <td>We have flown repeatedly with British Airway...</td>\n",
       "      <td>We have flown repeatedly with British Airways...</td>\n",
       "      <td>[(flown, v), (repeatedly, r), (British, a), (A...</td>\n",
       "      <td>fly repeatedly British Airways One World all...</td>\n",
       "    </tr>\n",
       "    <tr>\n",
       "      <th>2</th>\n",
       "      <td>I was horrified by the extremely small seats...</td>\n",
       "      <td>I was horrified by the extremely small seats ...</td>\n",
       "      <td>[(horrified, v), (extremely, r), (small, a), (...</td>\n",
       "      <td>horrify extremely small seat poor training c...</td>\n",
       "    </tr>\n",
       "    <tr>\n",
       "      <th>3</th>\n",
       "      <td>\\r\\nThe worst cabin experience ever: cramped...</td>\n",
       "      <td>The worst cabin experience ever cramped seats...</td>\n",
       "      <td>[(worst, a), (cabin, n), (experience, n), (eve...</td>\n",
       "      <td>bad cabin experience ever cramp seat low cos...</td>\n",
       "    </tr>\n",
       "    <tr>\n",
       "      <th>4</th>\n",
       "      <td>First time flying with British Airways and fi...</td>\n",
       "      <td>First time flying with British Airways and fi...</td>\n",
       "      <td>[(First, a), (time, n), (flying, v), (British,...</td>\n",
       "      <td>First time fly British Airways first time fl...</td>\n",
       "    </tr>\n",
       "  </tbody>\n",
       "</table>\n",
       "</div>"
      ],
      "text/plain": [
       "                                             reviews  \\\n",
       "0   I was meant to fly in January to Algeria. I p...   \n",
       "1    We have flown repeatedly with British Airway...   \n",
       "2    I was horrified by the extremely small seats...   \n",
       "3    \\r\\nThe worst cabin experience ever: cramped...   \n",
       "4   First time flying with British Airways and fi...   \n",
       "\n",
       "                                     Cleaned Reviews  \\\n",
       "0   I was meant to fly in January to Algeria I pa...   \n",
       "1   We have flown repeatedly with British Airways...   \n",
       "2   I was horrified by the extremely small seats ...   \n",
       "3   The worst cabin experience ever cramped seats...   \n",
       "4   First time flying with British Airways and fi...   \n",
       "\n",
       "                                          POS tagged  \\\n",
       "0  [(meant, v), (fly, v), (January, n), (Algeria,...   \n",
       "1  [(flown, v), (repeatedly, r), (British, a), (A...   \n",
       "2  [(horrified, v), (extremely, r), (small, a), (...   \n",
       "3  [(worst, a), (cabin, n), (experience, n), (eve...   \n",
       "4  [(First, a), (time, n), (flying, v), (British,...   \n",
       "\n",
       "                                               Lemma  \n",
       "0    mean fly January Algeria pay ticket day mean...  \n",
       "1    fly repeatedly British Airways One World all...  \n",
       "2    horrify extremely small seat poor training c...  \n",
       "3    bad cabin experience ever cramp seat low cos...  \n",
       "4    First time fly British Airways first time fl...  "
      ]
     },
     "execution_count": 11,
     "metadata": {},
     "output_type": "execute_result"
    }
   ],
   "source": [
    "# Obtaining the stem words – Lemmatization\n",
    "\n",
    "from nltk.stem import WordNetLemmatizer\n",
    "wordnet_lemmatizer = WordNetLemmatizer()\n",
    "def lemmatize(pos_data):\n",
    "    lemma_rew = \" \"\n",
    "    for word, pos in pos_data:\n",
    "     if not pos:\n",
    "        lemma = word\n",
    "        lemma_rew = lemma_rew + \" \" + lemma\n",
    "     else:\n",
    "        lemma = wordnet_lemmatizer.lemmatize(word, pos=pos)\n",
    "        lemma_rew = lemma_rew + \" \" + lemma\n",
    "    return lemma_rew\n",
    "\n",
    "df['Lemma'] = df['POS tagged'].apply(lemmatize)\n",
    "df.head()"
   ]
  },
  {
   "cell_type": "code",
   "execution_count": 12,
   "id": "0bb04f47",
   "metadata": {},
   "outputs": [
    {
     "data": {
      "text/html": [
       "<div>\n",
       "<style scoped>\n",
       "    .dataframe tbody tr th:only-of-type {\n",
       "        vertical-align: middle;\n",
       "    }\n",
       "\n",
       "    .dataframe tbody tr th {\n",
       "        vertical-align: top;\n",
       "    }\n",
       "\n",
       "    .dataframe thead th {\n",
       "        text-align: right;\n",
       "    }\n",
       "</style>\n",
       "<table border=\"1\" class=\"dataframe\">\n",
       "  <thead>\n",
       "    <tr style=\"text-align: right;\">\n",
       "      <th></th>\n",
       "      <th>reviews</th>\n",
       "      <th>Lemma</th>\n",
       "    </tr>\n",
       "  </thead>\n",
       "  <tbody>\n",
       "    <tr>\n",
       "      <th>0</th>\n",
       "      <td>I was meant to fly in January to Algeria. I p...</td>\n",
       "      <td>mean fly January Algeria pay ticket day mean...</td>\n",
       "    </tr>\n",
       "    <tr>\n",
       "      <th>1</th>\n",
       "      <td>We have flown repeatedly with British Airway...</td>\n",
       "      <td>fly repeatedly British Airways One World all...</td>\n",
       "    </tr>\n",
       "    <tr>\n",
       "      <th>2</th>\n",
       "      <td>I was horrified by the extremely small seats...</td>\n",
       "      <td>horrify extremely small seat poor training c...</td>\n",
       "    </tr>\n",
       "    <tr>\n",
       "      <th>3</th>\n",
       "      <td>\\r\\nThe worst cabin experience ever: cramped...</td>\n",
       "      <td>bad cabin experience ever cramp seat low cos...</td>\n",
       "    </tr>\n",
       "    <tr>\n",
       "      <th>4</th>\n",
       "      <td>First time flying with British Airways and fi...</td>\n",
       "      <td>First time fly British Airways first time fl...</td>\n",
       "    </tr>\n",
       "    <tr>\n",
       "      <th>...</th>\n",
       "      <td>...</td>\n",
       "      <td>...</td>\n",
       "    </tr>\n",
       "    <tr>\n",
       "      <th>995</th>\n",
       "      <td>London to Hamburg. Typically if I fly BA it ...</td>\n",
       "      <td>London Hamburg Typically fly BA SFO LAX LHR ...</td>\n",
       "    </tr>\n",
       "    <tr>\n",
       "      <th>996</th>\n",
       "      <td>Turin to London Gatwick. Rubbish check-in ser...</td>\n",
       "      <td>Turin London Gatwick Rubbish check service b...</td>\n",
       "    </tr>\n",
       "    <tr>\n",
       "      <th>997</th>\n",
       "      <td>When I checked in the evening before for the...</td>\n",
       "      <td>check evening flight look like seat occupy h...</td>\n",
       "    </tr>\n",
       "    <tr>\n",
       "      <th>998</th>\n",
       "      <td>BA’s reputation has been declining for years...</td>\n",
       "      <td>BA reputation decline year use various reaso...</td>\n",
       "    </tr>\n",
       "    <tr>\n",
       "      <th>999</th>\n",
       "      <td>Los Angeles to London Heathrow. Desperately ...</td>\n",
       "      <td>Los Angeles London Heathrow Desperately poor...</td>\n",
       "    </tr>\n",
       "  </tbody>\n",
       "</table>\n",
       "<p>1000 rows × 2 columns</p>\n",
       "</div>"
      ],
      "text/plain": [
       "                                               reviews  \\\n",
       "0     I was meant to fly in January to Algeria. I p...   \n",
       "1      We have flown repeatedly with British Airway...   \n",
       "2      I was horrified by the extremely small seats...   \n",
       "3      \\r\\nThe worst cabin experience ever: cramped...   \n",
       "4     First time flying with British Airways and fi...   \n",
       "..                                                 ...   \n",
       "995    London to Hamburg. Typically if I fly BA it ...   \n",
       "996   Turin to London Gatwick. Rubbish check-in ser...   \n",
       "997    When I checked in the evening before for the...   \n",
       "998    BA’s reputation has been declining for years...   \n",
       "999    Los Angeles to London Heathrow. Desperately ...   \n",
       "\n",
       "                                                 Lemma  \n",
       "0      mean fly January Algeria pay ticket day mean...  \n",
       "1      fly repeatedly British Airways One World all...  \n",
       "2      horrify extremely small seat poor training c...  \n",
       "3      bad cabin experience ever cramp seat low cos...  \n",
       "4      First time fly British Airways first time fl...  \n",
       "..                                                 ...  \n",
       "995    London Hamburg Typically fly BA SFO LAX LHR ...  \n",
       "996    Turin London Gatwick Rubbish check service b...  \n",
       "997    check evening flight look like seat occupy h...  \n",
       "998    BA reputation decline year use various reaso...  \n",
       "999    Los Angeles London Heathrow Desperately poor...  \n",
       "\n",
       "[1000 rows x 2 columns]"
      ]
     },
     "execution_count": 12,
     "metadata": {},
     "output_type": "execute_result"
    }
   ],
   "source": [
    "df[['reviews','Lemma']]"
   ]
  },
  {
   "cell_type": "markdown",
   "id": "67e4f746",
   "metadata": {},
   "source": [
    "# Sentiment Analysis using VADER"
   ]
  },
  {
   "cell_type": "markdown",
   "id": "9be3b3e1",
   "metadata": {},
   "source": [
    "VADER (Valence Aware Dictionary and Sentiment Reasoner).\n",
    "Vader sentiment not only tells if the statement is positive or negative along with the intensity of emotion."
   ]
  },
  {
   "cell_type": "code",
   "execution_count": 14,
   "id": "445345d2",
   "metadata": {
    "scrolled": false
   },
   "outputs": [
    {
     "name": "stdout",
     "output_type": "stream",
     "text": [
      "Requirement already satisfied: vaderSentiment in c:\\users\\rutik\\anaconda3\\lib\\site-packages (3.3.2)\n",
      "Requirement already satisfied: requests in c:\\users\\rutik\\anaconda3\\lib\\site-packages (from vaderSentiment) (2.27.1)\n",
      "Requirement already satisfied: certifi>=2017.4.17 in c:\\users\\rutik\\anaconda3\\lib\\site-packages (from requests->vaderSentiment) (2021.10.8)\n",
      "Requirement already satisfied: charset-normalizer~=2.0.0 in c:\\users\\rutik\\anaconda3\\lib\\site-packages (from requests->vaderSentiment) (2.0.4)\n",
      "Requirement already satisfied: urllib3<1.27,>=1.21.1 in c:\\users\\rutik\\anaconda3\\lib\\site-packages (from requests->vaderSentiment) (1.26.9)\n",
      "Requirement already satisfied: idna<4,>=2.5 in c:\\users\\rutik\\anaconda3\\lib\\site-packages (from requests->vaderSentiment) (3.3)\n",
      "Note: you may need to restart the kernel to use updated packages.\n"
     ]
    }
   ],
   "source": [
    "pip install vaderSentiment"
   ]
  },
  {
   "cell_type": "code",
   "execution_count": 15,
   "id": "536e6ae9",
   "metadata": {},
   "outputs": [
    {
     "data": {
      "text/html": [
       "<div>\n",
       "<style scoped>\n",
       "    .dataframe tbody tr th:only-of-type {\n",
       "        vertical-align: middle;\n",
       "    }\n",
       "\n",
       "    .dataframe tbody tr th {\n",
       "        vertical-align: top;\n",
       "    }\n",
       "\n",
       "    .dataframe thead th {\n",
       "        text-align: right;\n",
       "    }\n",
       "</style>\n",
       "<table border=\"1\" class=\"dataframe\">\n",
       "  <thead>\n",
       "    <tr style=\"text-align: right;\">\n",
       "      <th></th>\n",
       "      <th>reviews</th>\n",
       "      <th>Cleaned Reviews</th>\n",
       "      <th>POS tagged</th>\n",
       "      <th>Lemma</th>\n",
       "      <th>Sentiment</th>\n",
       "      <th>Analysis</th>\n",
       "    </tr>\n",
       "  </thead>\n",
       "  <tbody>\n",
       "    <tr>\n",
       "      <th>0</th>\n",
       "      <td>I was meant to fly in January to Algeria. I p...</td>\n",
       "      <td>I was meant to fly in January to Algeria I pa...</td>\n",
       "      <td>[(meant, v), (fly, v), (January, n), (Algeria,...</td>\n",
       "      <td>mean fly January Algeria pay ticket day mean...</td>\n",
       "      <td>-0.5994</td>\n",
       "      <td>Negative</td>\n",
       "    </tr>\n",
       "    <tr>\n",
       "      <th>1</th>\n",
       "      <td>We have flown repeatedly with British Airway...</td>\n",
       "      <td>We have flown repeatedly with British Airways...</td>\n",
       "      <td>[(flown, v), (repeatedly, r), (British, a), (A...</td>\n",
       "      <td>fly repeatedly British Airways One World all...</td>\n",
       "      <td>-0.9442</td>\n",
       "      <td>Negative</td>\n",
       "    </tr>\n",
       "    <tr>\n",
       "      <th>2</th>\n",
       "      <td>I was horrified by the extremely small seats...</td>\n",
       "      <td>I was horrified by the extremely small seats ...</td>\n",
       "      <td>[(horrified, v), (extremely, r), (small, a), (...</td>\n",
       "      <td>horrify extremely small seat poor training c...</td>\n",
       "      <td>-0.5507</td>\n",
       "      <td>Negative</td>\n",
       "    </tr>\n",
       "    <tr>\n",
       "      <th>3</th>\n",
       "      <td>\\r\\nThe worst cabin experience ever: cramped...</td>\n",
       "      <td>The worst cabin experience ever cramped seats...</td>\n",
       "      <td>[(worst, a), (cabin, n), (experience, n), (eve...</td>\n",
       "      <td>bad cabin experience ever cramp seat low cos...</td>\n",
       "      <td>-0.9022</td>\n",
       "      <td>Negative</td>\n",
       "    </tr>\n",
       "    <tr>\n",
       "      <th>4</th>\n",
       "      <td>First time flying with British Airways and fi...</td>\n",
       "      <td>First time flying with British Airways and fi...</td>\n",
       "      <td>[(First, a), (time, n), (flying, v), (British,...</td>\n",
       "      <td>First time fly British Airways first time fl...</td>\n",
       "      <td>0.9844</td>\n",
       "      <td>Positive</td>\n",
       "    </tr>\n",
       "  </tbody>\n",
       "</table>\n",
       "</div>"
      ],
      "text/plain": [
       "                                             reviews  \\\n",
       "0   I was meant to fly in January to Algeria. I p...   \n",
       "1    We have flown repeatedly with British Airway...   \n",
       "2    I was horrified by the extremely small seats...   \n",
       "3    \\r\\nThe worst cabin experience ever: cramped...   \n",
       "4   First time flying with British Airways and fi...   \n",
       "\n",
       "                                     Cleaned Reviews  \\\n",
       "0   I was meant to fly in January to Algeria I pa...   \n",
       "1   We have flown repeatedly with British Airways...   \n",
       "2   I was horrified by the extremely small seats ...   \n",
       "3   The worst cabin experience ever cramped seats...   \n",
       "4   First time flying with British Airways and fi...   \n",
       "\n",
       "                                          POS tagged  \\\n",
       "0  [(meant, v), (fly, v), (January, n), (Algeria,...   \n",
       "1  [(flown, v), (repeatedly, r), (British, a), (A...   \n",
       "2  [(horrified, v), (extremely, r), (small, a), (...   \n",
       "3  [(worst, a), (cabin, n), (experience, n), (eve...   \n",
       "4  [(First, a), (time, n), (flying, v), (British,...   \n",
       "\n",
       "                                               Lemma  Sentiment  Analysis  \n",
       "0    mean fly January Algeria pay ticket day mean...    -0.5994  Negative  \n",
       "1    fly repeatedly British Airways One World all...    -0.9442  Negative  \n",
       "2    horrify extremely small seat poor training c...    -0.5507  Negative  \n",
       "3    bad cabin experience ever cramp seat low cos...    -0.9022  Negative  \n",
       "4    First time fly British Airways first time fl...     0.9844  Positive  "
      ]
     },
     "execution_count": 15,
     "metadata": {},
     "output_type": "execute_result"
    }
   ],
   "source": [
    "from vaderSentiment.vaderSentiment import SentimentIntensityAnalyzer\n",
    "analyzer = SentimentIntensityAnalyzer()\n",
    "\n",
    "\n",
    "# function to calculate vader sentiment\n",
    "def vadersentimentanalysis(review):\n",
    "    vs = analyzer.polarity_scores(review)\n",
    "    return vs['compound']\n",
    "\n",
    "df['Sentiment'] = df['Lemma'].apply(vadersentimentanalysis)\n",
    "\n",
    "# function to analyse\n",
    "def vader_analysis(compound):\n",
    "    if compound >= 0.5:\n",
    "        return 'Positive'\n",
    "    elif compound < 0 :\n",
    "        return 'Negative'\n",
    "    else:\n",
    "        return 'Neutral'\n",
    "df['Analysis'] = df['Sentiment'].apply(vader_analysis)\n",
    "df.head()"
   ]
  },
  {
   "cell_type": "markdown",
   "id": "be590fc0",
   "metadata": {},
   "source": [
    "# Analysis Counts"
   ]
  },
  {
   "cell_type": "code",
   "execution_count": 16,
   "id": "c125d932",
   "metadata": {
    "scrolled": true
   },
   "outputs": [
    {
     "data": {
      "text/plain": [
       "Positive    526\n",
       "Negative    366\n",
       "Neutral     108\n",
       "Name: Analysis, dtype: int64"
      ]
     },
     "execution_count": 16,
     "metadata": {},
     "output_type": "execute_result"
    }
   ],
   "source": [
    "vader_counts = df['Analysis'].value_counts()\n",
    "vader_counts"
   ]
  },
  {
   "cell_type": "markdown",
   "id": "efea4492",
   "metadata": {},
   "source": [
    "# Visual Representation"
   ]
  },
  {
   "cell_type": "code",
   "execution_count": 17,
   "id": "6e2700c7",
   "metadata": {},
   "outputs": [
    {
     "data": {
      "text/plain": [
       "([<matplotlib.patches.Wedge at 0x140b1c6e6d0>,\n",
       "  <matplotlib.patches.Wedge at 0x140b1c7edc0>,\n",
       "  <matplotlib.patches.Wedge at 0x140b2336520>],\n",
       " [Text(-0.08974975155714607, 1.0963325143839484, 'Positive'),\n",
       "  Text(-0.2802476564342275, -1.0637016739025673, 'Negative'),\n",
       "  Text(1.2730372826016982, -0.44930621752440103, 'Neutral')],\n",
       " [Text(-0.048954409940261484, 0.5979995533003355, '52.6%'),\n",
       "  Text(-0.15286235805503315, -0.5802009130377639, '36.6%'),\n",
       "  Text(0.8015419927492173, -0.2828965073301784, '10.8%')])"
      ]
     },
     "execution_count": 17,
     "metadata": {},
     "output_type": "execute_result"
    },
    {
     "data": {
      "image/png": "[encoded data removed]",
      "text/plain": [
       "<Figure size 1080x504 with 1 Axes>"
      ]
     },
     "metadata": {},
     "output_type": "display_data"
    }
   ],
   "source": [
    "import matplotlib.pyplot as plt\n",
    "%matplotlib inline\n",
    "plt.figure(figsize=(15,7))\n",
    "\n",
    "plt.subplot(1,3,2)\n",
    "plt.title(\"Reviews Analysis\")\n",
    "plt.pie(vader_counts.values, labels = vader_counts.index, explode = (0, 0, 0.25), autopct='%1.1f%%', shadow=False)"
   ]
  },
  {
   "cell_type": "code",
   "execution_count": 19,
   "id": "4e25bf89",
   "metadata": {},
   "outputs": [],
   "source": [
    "df.to_csv(\"BA_reviews.csv\")"
   ]
  }
 ],
 "metadata": {
  "kernelspec": {
   "display_name": "Python 3 (ipykernel)",
   "language": "python",
   "name": "python3"
  },
  "language_info": {
   "codemirror_mode": {
    "name": "ipython",
    "version": 3
   },
   "file_extension": ".py",
   "mimetype": "text/x-python",
   "name": "python",
   "nbconvert_exporter": "python",
   "pygments_lexer": "ipython3",
   "version": "3.9.12"
  }
 },
 "nbformat": 4,
 "nbformat_minor": 5
}
